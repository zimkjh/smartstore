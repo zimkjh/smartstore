{
 "cells": [
  {
   "cell_type": "markdown",
   "metadata": {},
   "source": [
    "---\n",
    "\n",
    "### 엑셀 파일 전처리"
   ]
  },
  {
   "cell_type": "code",
   "execution_count": 15,
   "metadata": {},
   "outputs": [],
   "source": [
    "import pandas as pd"
   ]
  },
  {
   "cell_type": "code",
   "execution_count": 34,
   "metadata": {},
   "outputs": [
    {
     "data": {
      "text/plain": [
       "['/Users/user/gitClone/smartstore/20200823/SMARTSTORE_1 (0)/SMARTSTORE_1.xls',\n",
       " '/Users/user/gitClone/smartstore/20200823/SMARTSTORE_1 (1)/SMARTSTORE_1.xls',\n",
       " '/Users/user/gitClone/smartstore/20200823/SMARTSTORE_1 (2)/SMARTSTORE_1.xls',\n",
       " '/Users/user/gitClone/smartstore/20200823/SMARTSTORE_1 (3)/SMARTSTORE_1.xls',\n",
       " '/Users/user/gitClone/smartstore/20200823/SMARTSTORE_1 (4)/SMARTSTORE_1.xls',\n",
       " '/Users/user/gitClone/smartstore/20200823/SMARTSTORE_1 (5)/SMARTSTORE_1.xls',\n",
       " '/Users/user/gitClone/smartstore/20200823/SMARTSTORE_1 (6)/SMARTSTORE_1.xls',\n",
       " '/Users/user/gitClone/smartstore/20200823/SMARTSTORE_1 (7)/SMARTSTORE_1.xls',\n",
       " '/Users/user/gitClone/smartstore/20200823/SMARTSTORE_1 (8)/SMARTSTORE_1.xls']"
      ]
     },
     "execution_count": 34,
     "metadata": {},
     "output_type": "execute_result"
    }
   ],
   "source": [
    "# file list\n",
    "fileL = []\n",
    "for i in range(9):\n",
    "    fileName = \"/Users/user/gitClone/smartstore/20200823/SMARTSTORE_1 (\"+str(i)+\")/SMARTSTORE_1.xls\"\n",
    "    fileL.append(fileName)\n",
    "fileL"
   ]
  },
  {
   "cell_type": "code",
   "execution_count": 36,
   "metadata": {},
   "outputs": [],
   "source": [
    "for file in fileL:\n",
    "    ss = pd.read_excel(\"/Users/user/gitClone/smartstore/20200823/SMARTSTORE_1 (0)/SMARTSTORE_1.xls\")\n",
    "    \n",
    "    # 자동 업로드 안되는 요소 제거\n",
    "    ss[\"상품 상세정보\"] = [x.replace(\"IMG align=absMiddle \", \"\") for x in ss[\"상품 상세정보\"]]\n",
    "    \n",
    "    ss.to_excel(file.replace(\"1.xls\", \"new.xls\"))"
   ]
  },
  {
   "cell_type": "markdown",
   "metadata": {},
   "source": [
    "---\n",
    "\n",
    "###  제목 변경"
   ]
  },
  {
   "cell_type": "code",
   "execution_count": null,
   "metadata": {},
   "outputs": [],
   "source": []
  }
 ],
 "metadata": {
  "kernelspec": {
   "display_name": "Python 3",
   "language": "python",
   "name": "python3"
  },
  "language_info": {
   "codemirror_mode": {
    "name": "ipython",
    "version": 3
   },
   "file_extension": ".py",
   "mimetype": "text/x-python",
   "name": "python",
   "nbconvert_exporter": "python",
   "pygments_lexer": "ipython3",
   "version": "3.7.3"
  }
 },
 "nbformat": 4,
 "nbformat_minor": 4
}
